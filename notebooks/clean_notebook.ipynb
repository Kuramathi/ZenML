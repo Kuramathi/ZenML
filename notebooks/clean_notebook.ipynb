{
 "cells": [
  {
   "cell_type": "markdown",
   "metadata": {},
   "source": [
    "Data Loader"
   ]
  },
  {
   "cell_type": "code",
   "execution_count": 1,
   "metadata": {},
   "outputs": [],
   "source": [
    "import os\n",
    "import pandas as pd\n",
    "\n",
    "def data_loader(base_path:str) -> pd.DataFrame:\n",
    "    folders = ['normal', 'lung_opacity', 'covid', 'pneumonia']\n",
    "    data = []\n",
    "\n",
    "    for folder in folders:\n",
    "        folder_path = os.path.join(base_path, folder)\n",
    "        for filename in os.listdir(folder_path):\n",
    "            if filename.endswith('.jpg') or filename.endswith('.png'):\n",
    "                file_path = os.path.join(folder_path, filename)\n",
    "                data.append((file_path, folder))\n",
    "\n",
    "    df_tuples = pd.DataFrame(data, columns=['image_path', 'label'])\n",
    "\n",
    "    return df_tuples"
   ]
  },
  {
   "cell_type": "markdown",
   "metadata": {},
   "source": [
    "Data pre-processing"
   ]
  },
  {
   "cell_type": "code",
   "execution_count": 2,
   "metadata": {},
   "outputs": [],
   "source": [
    "from tensorflow.keras.preprocessing.image import ImageDataGenerator, img_to_array, load_img\n",
    "\n",
    "def data_preprocessor(df):\n",
    "    def preproc(image_path, target_size=(64, 64)):\n",
    "        image = load_img(image_path, target_size=target_size, color_mode='grayscale')  # Resize and convert to grayscale\n",
    "        image = img_to_array(image)\n",
    "        image = image.flatten()  # Flatten the image\n",
    "        image /= 255.0  # Normalize pixel values to [0, 1]\n",
    "        return image\n",
    "\n",
    "    df['features'] = df['image_path'].apply(preproc)\n",
    "    return df"
   ]
  },
  {
   "cell_type": "markdown",
   "metadata": {},
   "source": [
    "Split Data"
   ]
  },
  {
   "cell_type": "code",
   "execution_count": 3,
   "metadata": {},
   "outputs": [],
   "source": [
    "import numpy as np\n",
    "\n",
    "from sklearn.model_selection import train_test_split\n",
    "\n",
    "def split_data(df: pd.DataFrame):\n",
    "    # Convert the features into a numpy array and stack them into a matrix\n",
    "    X = np.stack(df['features'].values)\n",
    "\n",
    "    # Encode the labels as integers\n",
    "    y = df['label'].astype('category').cat.codes\n",
    "\n",
    "    # Split the data into training and test sets\n",
    "    X_train, X_test, y_train, y_test = train_test_split(X, y, test_size=0.2, random_state=42)\n",
    "\n",
    "    return X_train, X_test, y_train, y_test"
   ]
  },
  {
   "cell_type": "markdown",
   "metadata": {},
   "source": [
    "Train Model"
   ]
  },
  {
   "cell_type": "code",
   "execution_count": 4,
   "metadata": {},
   "outputs": [],
   "source": [
    "from sklearn.ensemble import RandomForestClassifier\n",
    "\n",
    "\n",
    "def train_model(X_train, y_train):\n",
    "    \n",
    "    # Initialize the Logistic Regression model\n",
    "    model = RandomForestClassifier(n_estimators=100, random_state=42)  # Increase max_iter if needed for convergence\n",
    "    # Train the model on the training data\n",
    "    model.fit(X_train, y_train)\n",
    "\n",
    "    return model"
   ]
  },
  {
   "cell_type": "markdown",
   "metadata": {},
   "source": [
    "Prediction of model"
   ]
  },
  {
   "cell_type": "code",
   "execution_count": 5,
   "metadata": {},
   "outputs": [],
   "source": [
    "from sklearn.metrics import accuracy_score, classification_report\n",
    "\n",
    "\n",
    "def predict_model(df_preprocessed, X_test, y_test, model):\n",
    "    # Predict the labels for the test set\n",
    "    y_pred = model.predict(X_test)\n",
    "\n",
    "    # Calculate the accuracy\n",
    "    accuracy = accuracy_score(y_test, y_pred)\n",
    "    print(f\"Accuracy: {accuracy * 100:.2f}%\")\n",
    "\n",
    "    # Generate a classification report\n",
    "    report = classification_report(y_test, y_pred, target_names=df_preprocessed['label'].astype('category').cat.categories)\n",
    "    print(report)\n",
    "\n",
    "    return report"
   ]
  },
  {
   "cell_type": "markdown",
   "metadata": {},
   "source": [
    "Execute"
   ]
  },
  {
   "cell_type": "code",
   "execution_count": 6,
   "metadata": {},
   "outputs": [
    {
     "name": "stdout",
     "output_type": "stream",
     "text": [
      "Accuracy: 83.44%\n",
      "              precision    recall  f1-score   support\n",
      "\n",
      "       covid       0.90      0.69      0.78       724\n",
      "lung_opacity       0.79      0.77      0.78      1191\n",
      "      normal       0.83      0.92      0.87      2056\n",
      "   pneumonia       0.94      0.85      0.90       262\n",
      "\n",
      "    accuracy                           0.83      4233\n",
      "   macro avg       0.87      0.81      0.83      4233\n",
      "weighted avg       0.84      0.83      0.83      4233\n",
      "\n",
      "              precision    recall  f1-score   support\n",
      "\n",
      "       covid       0.90      0.69      0.78       724\n",
      "lung_opacity       0.79      0.77      0.78      1191\n",
      "      normal       0.83      0.92      0.87      2056\n",
      "   pneumonia       0.94      0.85      0.90       262\n",
      "\n",
      "    accuracy                           0.83      4233\n",
      "   macro avg       0.87      0.81      0.83      4233\n",
      "weighted avg       0.84      0.83      0.83      4233\n",
      "\n"
     ]
    }
   ],
   "source": [
    "df_tuples = data_loader(base_path='../data')\n",
    "df_preprocessed = data_preprocessor(df_tuples)\n",
    "X_train, X_test, y_train, y_test = split_data(df_preprocessed)\n",
    "model = train_model(X_train, y_train)\n",
    "report = predict_model(df_preprocessed, X_test, y_test, model)\n",
    "print(report)"
   ]
  }
 ],
 "metadata": {
  "kernelspec": {
   "display_name": "MLOps",
   "language": "python",
   "name": "python3"
  },
  "language_info": {
   "codemirror_mode": {
    "name": "ipython",
    "version": 3
   },
   "file_extension": ".py",
   "mimetype": "text/x-python",
   "name": "python",
   "nbconvert_exporter": "python",
   "pygments_lexer": "ipython3",
   "version": "3.10.13"
  }
 },
 "nbformat": 4,
 "nbformat_minor": 2
}
